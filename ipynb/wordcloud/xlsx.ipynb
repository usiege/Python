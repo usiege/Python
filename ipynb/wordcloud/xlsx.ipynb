{
 "cells": [
  {
   "cell_type": "code",
   "execution_count": 3,
   "id": "747e337a",
   "metadata": {},
   "outputs": [
    {
     "name": "stdout",
     "output_type": "stream",
     "text": [
      "[<Worksheet \"Sheet1\">]\n"
     ]
    }
   ],
   "source": [
    "from openpyxl import load_workbook\n",
    "\n",
    "wb = load_workbook('lxm.xlsx')\n",
    "sheets = wb.worksheets   # 获取当前所有的sheet\n",
    "\n",
    "print(sheets)"
   ]
  },
  {
   "cell_type": "code",
   "execution_count": 10,
   "id": "7e7a24e6",
   "metadata": {},
   "outputs": [
    {
     "name": "stdout",
     "output_type": "stream",
     "text": [
      "<built-in method count of list object at 0x113a11d80>\n"
     ]
    }
   ],
   "source": [
    "sheet1 = sheets[0]\n",
    "\n",
    "# 获取第一列所有数据\n",
    "col1 = []\n",
    "for col in sheet1['A']:\n",
    "    col1.append(col.value)\n",
    "#print(col1)\n",
    "print(col1.count)"
   ]
  },
  {
   "cell_type": "code",
   "execution_count": null,
   "id": "ec01e05a",
   "metadata": {},
   "outputs": [],
   "source": []
  }
 ],
 "metadata": {
  "kernelspec": {
   "display_name": "Python 3 (ipykernel)",
   "language": "python",
   "name": "python3"
  },
  "language_info": {
   "codemirror_mode": {
    "name": "ipython",
    "version": 3
   },
   "file_extension": ".py",
   "mimetype": "text/x-python",
   "name": "python",
   "nbconvert_exporter": "python",
   "pygments_lexer": "ipython3",
   "version": "3.9.1"
  }
 },
 "nbformat": 4,
 "nbformat_minor": 5
}
